{
  "nbformat": 4,
  "nbformat_minor": 0,
  "metadata": {
    "colab": {
      "provenance": [],
      "include_colab_link": true
    },
    "kernelspec": {
      "name": "python3",
      "display_name": "Python 3"
    },
    "language_info": {
      "name": "python"
    }
  },
  "cells": [
    {
      "cell_type": "markdown",
      "metadata": {
        "id": "view-in-github",
        "colab_type": "text"
      },
      "source": [
        "<a href=\"https://colab.research.google.com/github/bigsmile0801/Testrepo/blob/main/Copy_of_AWSBootcamp_PreAssessment.ipynb\" target=\"_parent\"><img src=\"https://colab.research.google.com/assets/colab-badge.svg\" alt=\"Open In Colab\"/></a>"
      ]
    },
    {
      "cell_type": "markdown",
      "source": [
        "# AWS Bootcamp: Machine Learning (ML) Python Assessment \n",
        "---\n",
        "\n",
        "**DIRECTIONS:** \n",
        "1. Please make a copy of this Colab and answer the questions in the coding cells below. \n",
        "2. When you are finished, share the Colab link with the email: train.pd@the-cs.org."
      ],
      "metadata": {
        "id": "QHnSAI5VpNjK"
      }
    },
    {
      "cell_type": "markdown",
      "source": [
        "##### **Question #1:** Print the statement: `The year is 2022.`"
      ],
      "metadata": {
        "id": "_9_WppzPpSLW"
      }
    },
    {
      "cell_type": "code",
      "execution_count": null,
      "metadata": {
        "id": "c2gPkPeEpMXG",
        "colab": {
          "base_uri": "https://localhost:8080/"
        },
        "outputId": "004612ab-e6cb-4247-8fa8-e33ace404fe4"
      },
      "outputs": [
        {
          "output_type": "stream",
          "name": "stdout",
          "text": [
            "The year is 2022\n"
          ]
        }
      ],
      "source": [
        "# add solution here\n",
        "print(\"The year is 2022\")"
      ]
    },
    {
      "cell_type": "markdown",
      "source": [
        "##### **Question #2:** Print the sum of 76 and 92."
      ],
      "metadata": {
        "id": "YxGDg2m0YI40"
      }
    },
    {
      "cell_type": "code",
      "source": [
        "# add solution here\n",
        "print(76+92)"
      ],
      "metadata": {
        "id": "sYtfisbsYKR-",
        "colab": {
          "base_uri": "https://localhost:8080/"
        },
        "outputId": "76970f85-4fea-4378-8262-99cabae9ddf8"
      },
      "execution_count": null,
      "outputs": [
        {
          "output_type": "stream",
          "name": "stdout",
          "text": [
            "168\n"
          ]
        }
      ]
    },
    {
      "cell_type": "markdown",
      "source": [
        "##### **Question #3:** Create a variable called `name` and assign it to your name. Then print a statement that reads: `Welcome back, [YOUR NAME]`."
      ],
      "metadata": {
        "id": "7JlT2E21PhXA"
      }
    },
    {
      "cell_type": "code",
      "source": [
        "# add solution here\n",
        "name = \"Juyun Cho\"\n",
        "print(\"Welcome back \" + name)"
      ],
      "metadata": {
        "id": "f-BBE7upPrRY",
        "colab": {
          "base_uri": "https://localhost:8080/"
        },
        "outputId": "6f0aa9f1-9a04-437a-ecf5-1222839d76d9"
      },
      "execution_count": null,
      "outputs": [
        {
          "output_type": "stream",
          "name": "stdout",
          "text": [
            "Welcome back Juyun Cho\n"
          ]
        }
      ]
    },
    {
      "cell_type": "markdown",
      "source": [
        "##### **Question #4:** Write a function named `happy_bday` that has one parameter, `name`. If, for example, the argument for `name` is `\"Hans\"`, it prints \n",
        "```\n",
        "Happy Birthday Hans!\n",
        "```\n",
        "Call the function and wish a friend happy birthday!"
      ],
      "metadata": {
        "id": "uzzhsdkSPsoP"
      }
    },
    {
      "cell_type": "code",
      "source": [
        "# add solution here\n",
        "def happy_bday(name):\n",
        "  print(\"Happy Birthday \" + name + \"!\")\n",
        "\n",
        "happy_bday(\"Joey\")"
      ],
      "metadata": {
        "id": "vzCx6S2qPtcZ",
        "colab": {
          "base_uri": "https://localhost:8080/"
        },
        "outputId": "be8415f1-f701-4d78-b226-f470225dc7ab"
      },
      "execution_count": null,
      "outputs": [
        {
          "output_type": "stream",
          "name": "stdout",
          "text": [
            "Happy Birthday Joey!\n"
          ]
        }
      ]
    },
    {
      "cell_type": "markdown",
      "source": [
        "##### **Question #5:** Write a function named `how_old` that has two parameters -- `name` and `age`. If the argument for `name` is `\"Ana\"` and the argument for age is `13`, the function should print: `Ana is 13 years old. ` \n",
        "\n",
        "Call the function with your name and age."
      ],
      "metadata": {
        "id": "VWlKvgiePriZ"
      }
    },
    {
      "cell_type": "markdown",
      "source": [],
      "metadata": {
        "id": "7WS6y_pQYnG1"
      }
    },
    {
      "cell_type": "code",
      "source": [
        "# add solution here\n",
        "def how_old(name, age):\n",
        "  if name ==\"Ana\" and age == 13:\n",
        "    print(name + \" is 13 years old.\")\n",
        "  else:\n",
        "     print(name + \" is NOT 13 years old.\")\n",
        "\n",
        "how_old(\"Ana\", 13)\n",
        "how_old(\"Ana\", 10)"
      ],
      "metadata": {
        "id": "ipXSyAMnPsY3",
        "colab": {
          "base_uri": "https://localhost:8080/"
        },
        "outputId": "ee271c35-de26-4680-c519-400728b7ae8d"
      },
      "execution_count": null,
      "outputs": [
        {
          "output_type": "stream",
          "name": "stdout",
          "text": [
            "Ana is 13 years old.\n",
            "Ana is NOT 13 years old.\n"
          ]
        }
      ]
    },
    {
      "cell_type": "markdown",
      "source": [
        "##### **Question #6:** Create a list called `countries` with the countries: Mexico, France, and Australia. "
      ],
      "metadata": {
        "id": "CDqOvL5VTgEO"
      }
    },
    {
      "cell_type": "code",
      "source": [
        "# add solution here\n",
        "countries = [\"Mexico\", \"France\", \"Australia\"]\n",
        "print(countries)"
      ],
      "metadata": {
        "id": "YmXA53L0TwCQ",
        "colab": {
          "base_uri": "https://localhost:8080/"
        },
        "outputId": "0d3443ea-f3b1-4edd-ffa6-5c0e491213fe"
      },
      "execution_count": null,
      "outputs": [
        {
          "output_type": "stream",
          "name": "stdout",
          "text": [
            "['Mexico', 'France', 'Australia']\n"
          ]
        }
      ]
    },
    {
      "cell_type": "markdown",
      "source": [
        "##### **Question #7:** Use indexing to print Alexus' name."
      ],
      "metadata": {
        "id": "UM3hTgUDPuBe"
      }
    },
    {
      "cell_type": "code",
      "source": [
        "family = [\"Rebecca\", \"Samuel\", \"Indiyah\", \"Alexus\"]"
      ],
      "metadata": {
        "id": "HJ4lyUanPvc3"
      },
      "execution_count": null,
      "outputs": []
    },
    {
      "cell_type": "code",
      "source": [
        "# add solution here\n",
        "family = [\"Rebecca\", \"Samuel\", \"Indiyah\", \"Alexus\"]\n",
        "print(family[3])"
      ],
      "metadata": {
        "id": "48B3OyUTb9Jj",
        "colab": {
          "base_uri": "https://localhost:8080/"
        },
        "outputId": "652a19e1-865e-4fcf-d57e-0bc3a4823da3"
      },
      "execution_count": null,
      "outputs": [
        {
          "output_type": "stream",
          "name": "stdout",
          "text": [
            "Alexus\n"
          ]
        }
      ]
    },
    {
      "cell_type": "markdown",
      "source": [
        "##### **Question #8:** Replace 'monkeys' with 'penguins' in the list below."
      ],
      "metadata": {
        "id": "iYxcFBquWyTO"
      }
    },
    {
      "cell_type": "code",
      "source": [
        "fav_animals = [\"giraffes\", \"walruses\", \"pandas\", \"peacocks\", \"monkeys\"]"
      ],
      "metadata": {
        "id": "6rEc4xphWzuO"
      },
      "execution_count": null,
      "outputs": []
    },
    {
      "cell_type": "code",
      "source": [
        "# add solution here\n",
        "fav_animals = [\"giraffes\", \"walruses\", \"pandas\", \"peacocks\", \"monkeys\"]\n",
        "fav_animals[4] = \"penguins\"\n",
        "print(fav_animals)"
      ],
      "metadata": {
        "id": "DWM6McJTYz5C",
        "colab": {
          "base_uri": "https://localhost:8080/"
        },
        "outputId": "4608db07-6812-48c3-e0c1-da7795b3b5d2"
      },
      "execution_count": null,
      "outputs": [
        {
          "output_type": "stream",
          "name": "stdout",
          "text": [
            "['giraffes', 'walruses', 'pandas', 'peacocks', 'penguins']\n"
          ]
        }
      ]
    },
    {
      "cell_type": "markdown",
      "source": [
        "---\n",
        "© 2023 The Coding School, All rights reserved"
      ],
      "metadata": {
        "id": "40zySWM3P78Q"
      }
    }
  ]
}